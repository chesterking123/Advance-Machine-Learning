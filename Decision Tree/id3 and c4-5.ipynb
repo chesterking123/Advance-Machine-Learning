{
 "cells": [
  {
   "cell_type": "code",
   "execution_count": 3,
   "metadata": {
    "_cell_guid": "b1076dfc-b9ad-4769-8c92-a6c4dae69d19",
    "_uuid": "8f2839f25d086af736a60e9eeb907d3b93b6e0e5",
    "scrolled": false
   },
   "outputs": [],
   "source": [
    "import numpy as np \n",
    "import pandas as pd \n",
    "import matplotlib.pyplot as plt\n",
    "import sklearn\n",
    "from sklearn.model_selection import train_test_split\n",
    "from sklearn import tree\n",
    "from sklearn.metrics import confusion_matrix\n",
    "from sklearn.metrics import classification_report"
   ]
  },
  {
   "cell_type": "code",
   "execution_count": 4,
   "metadata": {},
   "outputs": [],
   "source": [
    "#!pip install graphviz"
   ]
  },
  {
   "cell_type": "code",
   "execution_count": 6,
   "metadata": {},
   "outputs": [
    {
     "data": {
      "text/plain": [
       "DecisionTreeClassifier(class_weight=None, criterion='entropy', max_depth=None,\n",
       "                       max_features=None, max_leaf_nodes=None,\n",
       "                       min_impurity_decrease=0.0, min_impurity_split=None,\n",
       "                       min_samples_leaf=1, min_samples_split=2,\n",
       "                       min_weight_fraction_leaf=0.0, presort=False,\n",
       "                       random_state=None, splitter='best')"
      ]
     },
     "execution_count": 6,
     "metadata": {},
     "output_type": "execute_result"
    }
   ],
   "source": [
    "df = pd.read_csv(\"diabetes.csv\")\n",
    "df = df.drop('SkinThickness', 'columns')\n",
    "df = df.dropna()\n",
    "\n",
    "df = df[(df[['Glucose','BloodPressure','Insulin', 'BMI','DiabetesPedigreeFunction','Age']] != 0).all(axis=1)]\n",
    "\n",
    "split_data = train_test_split(df, test_size=.30)\n",
    "\n",
    "train_data = split_data[0]\n",
    "test_data = split_data[1]\n",
    "\n",
    "outcome_train = train_data.Outcome.tolist()\n",
    "outcome_test = test_data.Outcome.tolist()\n",
    "\n",
    "train_data_remove = train_data.drop(columns = \"Outcome\")\n",
    "test_data_remove = test_data.drop(columns = \"Outcome\")\n",
    "\n",
    "# ID3\n",
    "clf = sklearn.tree.DecisionTreeClassifier(criterion = \"entropy\")\n",
    "clf.fit(train_data_remove, outcome_train)\n"
   ]
  },
  {
   "cell_type": "code",
   "execution_count": 7,
   "metadata": {
    "_cell_guid": "79c7e3d0-c299-4dcb-8224-4455121ee9b0",
    "_uuid": "d629ff2d2480ee46fbb7e2d37f6b5fab8052498a",
    "scrolled": true
   },
   "outputs": [
    {
     "name": "stdout",
     "output_type": "stream",
     "text": [
      "ID3 Testing accuracy:  0.7542372881355932\n"
     ]
    }
   ],
   "source": [
    "test_array = clf.predict(test_data_remove).tolist()\n",
    "ID3TestAccuracy = sklearn.metrics.accuracy_score(outcome_test, test_array)\n",
    "\n",
    "print('ID3 Testing accuracy: ',ID3TestAccuracy)\n",
    "\n"
   ]
  },
  {
   "cell_type": "code",
   "execution_count": 8,
   "metadata": {
    "_uuid": "9d3bd72bb6be40fa8ad2592b74146f2801c238d4"
   },
   "outputs": [
    {
     "data": {
      "image/png": "[encoded data removed]",
      "text/plain": [
       "<Figure size 432x288 with 2 Axes>"
      ]
     },
     "metadata": {
      "needs_background": "light"
     },
     "output_type": "display_data"
    }
   ],
   "source": [
    "correlation = df.corr()\n",
    "fig = plt.figure()\n",
    "ax = fig.add_subplot(111)\n",
    "cax = ax.matshow(correlation, vmin=-1, vmax=1)\n",
    "fig.colorbar(cax)\n",
    "ticks = np.arange(0,9,1)\n",
    "ax.set_xticks(ticks)\n",
    "ax.set_yticks(ticks)\n",
    "plt.show()"
   ]
  },
  {
   "cell_type": "code",
   "execution_count": 9,
   "metadata": {
    "_uuid": "11e22eaf64a5bac5ab75a323020d9d924e6fa036",
    "scrolled": false
   },
   "outputs": [
    {
     "name": "stdout",
     "output_type": "stream",
     "text": [
      "ID3 Training accuracy:  1.0\n"
     ]
    }
   ],
   "source": [
    "train_array = clf.predict(train_data_remove).tolist()\n",
    "ID3TrainAccuracy = sklearn.metrics.accuracy_score(outcome_train, train_array)\n",
    "\n",
    "print('ID3 Training accuracy: ',ID3TrainAccuracy)"
   ]
  },
  {
   "cell_type": "code",
   "execution_count": 11,
   "metadata": {
    "_uuid": "774cf7db8cf0f0c5a74a435cae1186a7705d33b4"
   },
   "outputs": [
    {
     "data": {
      "text/plain": [
       "DecisionTreeClassifier(class_weight=None, criterion='gini', max_depth=None,\n",
       "                       max_features=None, max_leaf_nodes=None,\n",
       "                       min_impurity_decrease=0.0, min_impurity_split=None,\n",
       "                       min_samples_leaf=1, min_samples_split=2,\n",
       "                       min_weight_fraction_leaf=0.0, presort=False,\n",
       "                       random_state=None, splitter='best')"
      ]
     },
     "execution_count": 11,
     "metadata": {},
     "output_type": "execute_result"
    }
   ],
   "source": [
    "# C4.5\n",
    "clf2 = sklearn.tree.DecisionTreeClassifier()\n",
    "\n",
    "clf2.fit(train_data_remove, outcome_train)"
   ]
  },
  {
   "cell_type": "code",
   "execution_count": 12,
   "metadata": {
    "_uuid": "113114bcb16ca889eadcd9a19332b3dfdd04c971"
   },
   "outputs": [
    {
     "name": "stdout",
     "output_type": "stream",
     "text": [
      "C4.5 Testing accuracy:  0.7457627118644068\n"
     ]
    }
   ],
   "source": [
    "test_array2 = clf2.predict(test_data_remove).tolist()\n",
    "CTestAccuracy = sklearn.metrics.accuracy_score(outcome_test, test_array2)\n",
    "\n",
    "print('C4.5 Testing accuracy: ',CTestAccuracy)\n"
   ]
  },
  {
   "cell_type": "code",
   "execution_count": 13,
   "metadata": {
    "_uuid": "82c5ca7cda5a854e8b0f596e7ab0a76371adff5a"
   },
   "outputs": [
    {
     "name": "stdout",
     "output_type": "stream",
     "text": [
      "C4.5 Training accuracy:  1.0\n"
     ]
    }
   ],
   "source": [
    "train_array2 = clf2.predict(train_data_remove).tolist()\n",
    "\n",
    "CTrainAccuracy = sklearn.metrics.accuracy_score(outcome_train, train_array2)\n",
    "\n",
    "print('C4.5 Training accuracy: ', CTrainAccuracy)"
   ]
  },
  {
   "cell_type": "code",
   "execution_count": 14,
   "metadata": {
    "_uuid": "b10e51c291e6e584255ab9c936523414049f1a86"
   },
   "outputs": [
    {
     "name": "stdout",
     "output_type": "stream",
     "text": [
      "TESTING DATA\n",
      "Confusion Matrix with Testing Data with ID3 Algorithm:\n",
      "[[63 19]\n",
      " [10 26]]\n",
      "\n",
      "Classification Report ID3 Algorithm:\n",
      "              precision    recall  f1-score   support\n",
      "\n",
      "           0       0.86      0.77      0.81        82\n",
      "           1       0.58      0.72      0.64        36\n",
      "\n",
      "    accuracy                           0.75       118\n",
      "   macro avg       0.72      0.75      0.73       118\n",
      "weighted avg       0.78      0.75      0.76       118\n",
      "\n",
      "\n",
      "\n",
      "TRAINING DATA\n",
      "Confusion Matrix with Training Data with ID3 Algorithm:\n",
      "[[180   0]\n",
      " [  0  94]]\n",
      "\n",
      "Classification Report ID3 Algorithm:\n",
      "              precision    recall  f1-score   support\n",
      "\n",
      "           0       1.00      1.00      1.00       180\n",
      "           1       1.00      1.00      1.00        94\n",
      "\n",
      "    accuracy                           1.00       274\n",
      "   macro avg       1.00      1.00      1.00       274\n",
      "weighted avg       1.00      1.00      1.00       274\n",
      "\n"
     ]
    }
   ],
   "source": [
    "prediction_test = clf.predict(test_data_remove).tolist()\n",
    "print(\"TESTING DATA\")\n",
    "print('Confusion Matrix with Testing Data with ID3 Algorithm:')\n",
    "print(confusion_matrix(outcome_test, prediction_test))\n",
    "print()\n",
    "print('Classification Report ID3 Algorithm:')\n",
    "print(classification_report(outcome_test, prediction_test))\n",
    "print()\n",
    "print()\n",
    "print(\"TRAINING DATA\")\n",
    "prediction_train = clf.predict(train_data_remove).tolist()\n",
    "\n",
    "print('Confusion Matrix with Training Data with ID3 Algorithm:')\n",
    "print(confusion_matrix(outcome_train, prediction_train))\n",
    "print()\n",
    "print('Classification Report ID3 Algorithm:')\n",
    "print(classification_report(outcome_train, prediction_train))"
   ]
  },
  {
   "cell_type": "code",
   "execution_count": 15,
   "metadata": {
    "_uuid": "e917fee58e19b255f29e2eadc7ec8e83d24c276b"
   },
   "outputs": [
    {
     "name": "stdout",
     "output_type": "stream",
     "text": [
      "TESTING DATA\n",
      "Confusion Matrix with Testing Data with C4.5 Algorithm: \n",
      "[[180   0]\n",
      " [  0  94]]\n",
      "\n",
      "Classification Report C4.5 Algorithm:\n",
      "              precision    recall  f1-score   support\n",
      "\n",
      "           0       1.00      1.00      1.00       180\n",
      "           1       1.00      1.00      1.00        94\n",
      "\n",
      "    accuracy                           1.00       274\n",
      "   macro avg       1.00      1.00      1.00       274\n",
      "weighted avg       1.00      1.00      1.00       274\n",
      "\n",
      "\n",
      "\n",
      "TRAINING DATA\n",
      "Confusion Matrix with Training Data with C4.5 Algorithm:\n",
      "[[180   0]\n",
      " [  0  94]]\n",
      "\n",
      "Classification Report C4.5 Algorithm:\n",
      "              precision    recall  f1-score   support\n",
      "\n",
      "           0       1.00      1.00      1.00       180\n",
      "           1       1.00      1.00      1.00        94\n",
      "\n",
      "    accuracy                           1.00       274\n",
      "   macro avg       1.00      1.00      1.00       274\n",
      "weighted avg       1.00      1.00      1.00       274\n",
      "\n"
     ]
    }
   ],
   "source": [
    "prediction_train2 = clf2.predict(train_data_remove).tolist()\n",
    "\n",
    "print(\"TESTING DATA\")\n",
    "print('Confusion Matrix with Testing Data with C4.5 Algorithm: ')\n",
    "print(confusion_matrix(outcome_train, prediction_train2))\n",
    "print()\n",
    "print('Classification Report C4.5 Algorithm:')\n",
    "print(classification_report(outcome_train, prediction_train2))\n",
    "print()\n",
    "print()\n",
    "print(\"TRAINING DATA\")\n",
    "print('Confusion Matrix with Training Data with C4.5 Algorithm:')\n",
    "print(confusion_matrix(outcome_train, prediction_train2))\n",
    "print()\n",
    "print('Classification Report C4.5 Algorithm:')\n",
    "print(classification_report(outcome_train, prediction_train2))\n"
   ]
  },
  {
   "cell_type": "code",
   "execution_count": null,
   "metadata": {},
   "outputs": [],
   "source": []
  }
 ],
 "metadata": {
  "kernelspec": {
   "display_name": "Python 3",
   "language": "python",
   "name": "python3"
  },
  "language_info": {
   "codemirror_mode": {
    "name": "ipython",
    "version": 3
   },
   "file_extension": ".py",
   "mimetype": "text/x-python",
   "name": "python",
   "nbconvert_exporter": "python",
   "pygments_lexer": "ipython3",
   "version": "3.7.4"
  }
 },
 "nbformat": 4,
 "nbformat_minor": 1
}
